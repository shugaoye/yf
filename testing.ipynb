{
 "cells": [
  {
   "cell_type": "code",
   "execution_count": 1,
   "metadata": {},
   "outputs": [
    {
     "name": "stdout",
     "output_type": "stream",
     "text": [
      "Starting to fetch stock data for EPAM from 2025-02-27 00:00:00 to 2025-03-06 00:00:00\n",
      "Fetching stock data for EPAM from 2025-03-05 13:45:35.139058 to 2025-03-10 13:45:35.139058\n",
      "                                 Open        High         Low       Close  \\\n",
      "Date                                                                        \n",
      "2025-03-05 00:00:00-05:00  198.199997  201.460007  197.309998  200.149994   \n",
      "2025-03-06 00:00:00-05:00  197.759995  201.979996  196.160004  197.270004   \n",
      "2025-03-07 00:00:00-05:00  196.020004  199.419998  194.250000  198.800003   \n",
      "\n",
      "                           Volume  Dividends  Stock Splits  \n",
      "Date                                                        \n",
      "2025-03-05 00:00:00-05:00  783400        0.0           0.0  \n",
      "2025-03-06 00:00:00-05:00  579500        0.0           0.0  \n",
      "2025-03-07 00:00:00-05:00  510700        0.0           0.0  \n",
      "198.8000030517578\n"
     ]
    }
   ],
   "source": [
    "import yfinance as yf\n",
    "from datetime import datetime\n",
    "from api.yahoo_finance_service import YahooFinanceService\n",
    "\n",
    "symbol = \"EPAM\"\n",
    "start = datetime.strptime(\"2025-02-27\", '%Y-%m-%d')\n",
    "end = datetime.strptime(\"2025-03-06\", '%Y-%m-%d')\n",
    "\n",
    "print(f\"Starting to fetch stock data for {symbol} from {start} to {end}\")\n",
    "\n",
    "price = YahooFinanceService.get_stock_price(symbol, start_date=start, end_date=end)\n",
    "print(price)\n"
   ]
  }
 ],
 "metadata": {
  "kernelspec": {
   "display_name": ".venv",
   "language": "python",
   "name": "python3"
  },
  "language_info": {
   "codemirror_mode": {
    "name": "ipython",
    "version": 3
   },
   "file_extension": ".py",
   "mimetype": "text/x-python",
   "name": "python",
   "nbconvert_exporter": "python",
   "pygments_lexer": "ipython3",
   "version": "3.13.2"
  }
 },
 "nbformat": 4,
 "nbformat_minor": 2
}
