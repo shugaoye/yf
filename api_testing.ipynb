{
 "cells": [
  {
   "cell_type": "code",
   "execution_count": 8,
   "metadata": {},
   "outputs": [
    {
     "data": {
      "text/plain": [
       "{'success': True, 'msg': 'Items found (1)', 'datas': '[1]'}"
      ]
     },
     "execution_count": 8,
     "metadata": {},
     "output_type": "execute_result"
    }
   ],
   "source": [
    "import requests\n",
    "\n",
    "# Example API endpoint (JSONPlaceholder: fake online REST API)\n",
    "url = \"http://localhost:5000/api/datas\"\n",
    "\n",
    "response = requests.get(url)\n",
    "response.json() # Returns the response data in JSON format"
   ]
  },
  {
   "cell_type": "code",
   "execution_count": 9,
   "metadata": {},
   "outputs": [
    {
     "name": "stdout",
     "output_type": "stream",
     "text": [
      "2025-03-07\n",
      "{'EPAM': 198.8000030517578, 'MSFT': 393.30999755859375}\n"
     ]
    }
   ],
   "source": [
    "url = \"http://localhost:5000/api/stock_prices\"\n",
    "data = {\n",
    "  \"symbols\": [\n",
    "    \"EPAM\",\n",
    "    \"MSFT\"\n",
    "  ],\n",
    "  \"start_date\": \"2025-02-27\",\n",
    "  \"end_date\": \"2025-03-10\"\n",
    "}\n",
    "\n",
    "response = requests.post(url, json=data)\n",
    "json_data = response.json()\n",
    "close_date = json_data[\"close_date\"]\n",
    "prices = json_data[\"data\"]\n",
    "print(close_date)\n",
    "print(prices)\n"
   ]
  }
 ],
 "metadata": {
  "kernelspec": {
   "display_name": ".venv",
   "language": "python",
   "name": "python3"
  },
  "language_info": {
   "codemirror_mode": {
    "name": "ipython",
    "version": 3
   },
   "file_extension": ".py",
   "mimetype": "text/x-python",
   "name": "python",
   "nbconvert_exporter": "python",
   "pygments_lexer": "ipython3",
   "version": "3.13.2"
  }
 },
 "nbformat": 4,
 "nbformat_minor": 2
}
